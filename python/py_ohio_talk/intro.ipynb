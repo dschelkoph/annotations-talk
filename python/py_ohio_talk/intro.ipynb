{
 "cells": [
  {
   "cell_type": "code",
   "execution_count": 1,
   "metadata": {},
   "outputs": [],
   "source": [
    "# Author: Dan Schelkoph\n",
    "# https://github.com/dschelkoph\n",
    "\n",
    "import abc\n",
    "from dataclasses import dataclass\n",
    "from typing import Annotated, TypeAlias, get_type_hints\n",
    "\n",
    "from pydantic import AfterValidator, BaseModel, Field, field_validator\n",
    "\n",
    "# ruff: noqa: D100, D101, D102, D103, D105, TRY003"
   ]
  },
  {
   "cell_type": "markdown",
   "metadata": {},
   "source": [
    "# What is the `Annotated` Type?"
   ]
  },
  {
   "cell_type": "markdown",
   "metadata": {},
   "source": [
    "## Notes"
   ]
  },
  {
   "cell_type": "markdown",
   "metadata": {},
   "source": [
    "[Python Docs](https://docs.python.org/3/library/typing.html#typing.Annotated)\n",
    "\n",
    "Allows the addition of metadata to a type annotation.\n",
    "\n",
    "The type has arguments that look like this: `Annotated[<Acutual Type>, <Metadata>, ...]`. Each metadata argument can be any type.\n",
    "\n",
    "Unique in that the type system doesn't see objects as the `Annotated` type, but whatever the first argument is. To use the metadata, your program has to purposely retrieve it."
   ]
  },
  {
   "cell_type": "markdown",
   "metadata": {},
   "source": [
    "## Code"
   ]
  },
  {
   "cell_type": "code",
   "execution_count": 2,
   "metadata": {},
   "outputs": [
    {
     "name": "stdout",
     "output_type": "stream",
     "text": [
      "Type of `annotated_int`: <class 'int'>\n"
     ]
    }
   ],
   "source": [
    "annotated_int: Annotated[int, \"this is metadata\", \"this is more metadata\"] = 2\n",
    "print(f\"Type of `annotated_int`: {type(annotated_int)}\")"
   ]
  },
  {
   "cell_type": "markdown",
   "metadata": {},
   "source": [
    "### Passing Into Function"
   ]
  },
  {
   "cell_type": "markdown",
   "metadata": {},
   "source": [
    "Since the type system sees `annotated_int` as an `int`, there isn't a type error passing it into `add_two`."
   ]
  },
  {
   "cell_type": "code",
   "execution_count": 3,
   "metadata": {},
   "outputs": [
    {
     "data": {
      "text/plain": [
       "4"
      ]
     },
     "execution_count": 3,
     "metadata": {},
     "output_type": "execute_result"
    }
   ],
   "source": [
    "def add_two(addend: int) -> int:\n",
    "    return addend + 2\n",
    "\n",
    "\n",
    "add_two(annotated_int)"
   ]
  },
  {
   "cell_type": "markdown",
   "metadata": {},
   "source": [
    "### `Annotated` in Function"
   ]
  },
  {
   "cell_type": "markdown",
   "metadata": {},
   "source": [
    "In addition, Non-Annotated types can be passed into objects that use `Annotated` type hints."
   ]
  },
  {
   "cell_type": "code",
   "execution_count": 4,
   "metadata": {},
   "outputs": [
    {
     "name": "stdout",
     "output_type": "stream",
     "text": [
      "Type of `annotated_int`: <class 'int'>\n"
     ]
    }
   ],
   "source": [
    "unannotated_int: int = 2\n",
    "print(f\"Type of `annotated_int`: {type(unannotated_int)}\")"
   ]
  },
  {
   "cell_type": "code",
   "execution_count": 5,
   "metadata": {},
   "outputs": [
    {
     "data": {
      "text/plain": [
       "4"
      ]
     },
     "execution_count": 5,
     "metadata": {},
     "output_type": "execute_result"
    }
   ],
   "source": [
    "def annotated_add_two(addend: Annotated[int, \"this is metadata\"]):\n",
    "    return addend + 2\n",
    "\n",
    "\n",
    "annotated_add_two(unannotated_int)"
   ]
  },
  {
   "cell_type": "markdown",
   "metadata": {},
   "source": [
    "Since the type system only uses the first argument, it allows the usage of the `Annotated` anywhere in your code without creating breaking changes to your typing!"
   ]
  },
  {
   "cell_type": "markdown",
   "metadata": {},
   "source": [
    "# Where's the Metadata?"
   ]
  },
  {
   "cell_type": "markdown",
   "metadata": {},
   "source": [
    "## Notes"
   ]
  },
  {
   "cell_type": "markdown",
   "metadata": {},
   "source": [
    "Can obtain through the `__metadata__` attribute of the `Annotated` type.\n",
    "\n",
    "To obtain typing information with metadata from an object, can use `get_type_hints` with the ``"
   ]
  },
  {
   "cell_type": "markdown",
   "metadata": {},
   "source": [
    "## Code"
   ]
  },
  {
   "cell_type": "code",
   "execution_count": 6,
   "metadata": {},
   "outputs": [],
   "source": [
    "AnnotatedInt: TypeAlias = Annotated[int, \"this is metadata\"]"
   ]
  },
  {
   "cell_type": "markdown",
   "metadata": {},
   "source": [
    "Use the `__metadata__` attribute:"
   ]
  },
  {
   "cell_type": "code",
   "execution_count": 13,
   "metadata": {},
   "outputs": [
    {
     "name": "stdout",
     "output_type": "stream",
     "text": [
      "Annotated Metadata: ('this is metadata',)\n",
      "Normal `int` Metadata: `__metadata__` Doesn't exist.\n"
     ]
    }
   ],
   "source": [
    "print(f\"Annotated Metadata: {AnnotatedInt.__metadata__}\")\n",
    "print(f\"Normal `int` Metadata: {getattr(int, \"__metadata__\", \"`__metadata__` Doesn't exist.\")}\")"
   ]
  },
  {
   "cell_type": "markdown",
   "metadata": {},
   "source": [
    "Use `get_type_hints`:"
   ]
  },
  {
   "cell_type": "code",
   "execution_count": 8,
   "metadata": {},
   "outputs": [
    {
     "data": {
      "text/plain": [
       "{'first_num': int, 'second_num': int}"
      ]
     },
     "execution_count": 8,
     "metadata": {},
     "output_type": "execute_result"
    }
   ],
   "source": [
    "@dataclass\n",
    "class Integers:\n",
    "    first_num: AnnotatedInt\n",
    "    second_num: int\n",
    "\n",
    "\n",
    "get_type_hints(Integers)"
   ]
  },
  {
   "cell_type": "markdown",
   "metadata": {},
   "source": [
    "There is no metadata though..."
   ]
  },
  {
   "cell_type": "code",
   "execution_count": 9,
   "metadata": {},
   "outputs": [
    {
     "name": "stdout",
     "output_type": "stream",
     "text": [
      "{'first_num': typing.Annotated[int, 'this is metadata'], 'second_num': <class 'int'>}\n"
     ]
    }
   ],
   "source": [
    "# Must use `include_extras=True` to get metadata (for backwards compatibility)\n",
    "type_hints = get_type_hints(Integers, include_extras=True)\n",
    "print(type_hints)"
   ]
  },
  {
   "cell_type": "code",
   "execution_count": 10,
   "metadata": {},
   "outputs": [
    {
     "data": {
      "text/plain": [
       "('this is metadata',)"
      ]
     },
     "execution_count": 10,
     "metadata": {},
     "output_type": "execute_result"
    }
   ],
   "source": [
    "type_hints[\"first_num\"].__metadata__"
   ]
  },
  {
   "cell_type": "markdown",
   "metadata": {},
   "source": [
    "# So What?"
   ]
  },
  {
   "cell_type": "markdown",
   "metadata": {},
   "source": [
    "## Validator"
   ]
  },
  {
   "cell_type": "code",
   "execution_count": 11,
   "metadata": {},
   "outputs": [],
   "source": [
    "class Validator(abc.ABC):\n",
    "    \"\"\"Concrete implementations can be placed as metadata in `Annotated` to validate a type.\"\"\"\n",
    "\n",
    "    @abc.abstractmethod\n",
    "    def validate(self, param_name: str, value) -> bool:\n",
    "        ...\n",
    "\n",
    "\n",
    "class PositiveIntValidator(Validator):\n",
    "    \"\"\"Ensure an integer is positive.\"\"\"\n",
    "\n",
    "    def validate(self, param_name: str, value: int) -> bool:\n",
    "        if value <= 0:\n",
    "            raise ValueError(f\"`{param_name}` must be positive. Current value: {value}.\")\n",
    "        return True\n",
    "\n",
    "\n",
    "@dataclass\n",
    "class Square:\n",
    "    side: Annotated[int, PositiveIntValidator(), \"its hip to be square\"]\n",
    "\n",
    "    def __post_init__(self):\n",
    "        # type_hints is `dict[ParamName, type]`\n",
    "        type_hints = get_type_hints(self, include_extras=True)\n",
    "        for param_name, param_type in type_hints.items():\n",
    "            metadata_tuple = getattr(param_type, \"__metadata__\", ())\n",
    "            for metadata in metadata_tuple:\n",
    "                # we only care about metadata that inherits from `Validator`\n",
    "                if isinstance(metadata, Validator):\n",
    "                    metadata.validate(param_name, getattr(self, param_name))"
   ]
  },
  {
   "cell_type": "code",
   "execution_count": 12,
   "metadata": {},
   "outputs": [
    {
     "ename": "ValueError",
     "evalue": "`side` must be positive. Current value: -1.",
     "output_type": "error",
     "traceback": [
      "\u001b[0;31m---------------------------------------------------------------------------\u001b[0m",
      "\u001b[0;31mValueError\u001b[0m                                Traceback (most recent call last)",
      "Cell \u001b[0;32mIn[12], line 1\u001b[0m\n\u001b[0;32m----> 1\u001b[0m \u001b[43mSquare\u001b[49m\u001b[43m(\u001b[49m\u001b[38;5;241;43m-\u001b[39;49m\u001b[38;5;241;43m1\u001b[39;49m\u001b[43m)\u001b[49m\n",
      "File \u001b[0;32m<string>:4\u001b[0m, in \u001b[0;36m__init__\u001b[0;34m(self, side)\u001b[0m\n",
      "Cell \u001b[0;32mIn[11], line 30\u001b[0m, in \u001b[0;36mSquare.__post_init__\u001b[0;34m(self)\u001b[0m\n\u001b[1;32m     27\u001b[0m \u001b[38;5;28;01mfor\u001b[39;00m metadata \u001b[38;5;129;01min\u001b[39;00m metadata_tuple:\n\u001b[1;32m     28\u001b[0m     \u001b[38;5;66;03m# we only care about metadata that inherits from `Validator`\u001b[39;00m\n\u001b[1;32m     29\u001b[0m     \u001b[38;5;28;01mif\u001b[39;00m \u001b[38;5;28misinstance\u001b[39m(metadata, Validator):\n\u001b[0;32m---> 30\u001b[0m         \u001b[43mmetadata\u001b[49m\u001b[38;5;241;43m.\u001b[39;49m\u001b[43mvalidate\u001b[49m\u001b[43m(\u001b[49m\u001b[43mparam_name\u001b[49m\u001b[43m,\u001b[49m\u001b[43m \u001b[49m\u001b[38;5;28;43mgetattr\u001b[39;49m\u001b[43m(\u001b[49m\u001b[38;5;28;43mself\u001b[39;49m\u001b[43m,\u001b[49m\u001b[43m \u001b[49m\u001b[43mparam_name\u001b[49m\u001b[43m)\u001b[49m\u001b[43m)\u001b[49m\n",
      "Cell \u001b[0;32mIn[11], line 14\u001b[0m, in \u001b[0;36mPositiveIntValidator.validate\u001b[0;34m(self, param_name, value)\u001b[0m\n\u001b[1;32m     12\u001b[0m \u001b[38;5;28;01mdef\u001b[39;00m \u001b[38;5;21mvalidate\u001b[39m(\u001b[38;5;28mself\u001b[39m, param_name: \u001b[38;5;28mstr\u001b[39m, value: \u001b[38;5;28mint\u001b[39m) \u001b[38;5;241m-\u001b[39m\u001b[38;5;241m>\u001b[39m \u001b[38;5;28mbool\u001b[39m:\n\u001b[1;32m     13\u001b[0m     \u001b[38;5;28;01mif\u001b[39;00m value \u001b[38;5;241m<\u001b[39m\u001b[38;5;241m=\u001b[39m \u001b[38;5;241m0\u001b[39m:\n\u001b[0;32m---> 14\u001b[0m         \u001b[38;5;28;01mraise\u001b[39;00m \u001b[38;5;167;01mValueError\u001b[39;00m(\u001b[38;5;124mf\u001b[39m\u001b[38;5;124m\"\u001b[39m\u001b[38;5;124m`\u001b[39m\u001b[38;5;132;01m{\u001b[39;00mparam_name\u001b[38;5;132;01m}\u001b[39;00m\u001b[38;5;124m` must be positive. Current value: \u001b[39m\u001b[38;5;132;01m{\u001b[39;00mvalue\u001b[38;5;132;01m}\u001b[39;00m\u001b[38;5;124m.\u001b[39m\u001b[38;5;124m\"\u001b[39m)\n\u001b[1;32m     15\u001b[0m     \u001b[38;5;28;01mreturn\u001b[39;00m \u001b[38;5;28;01mTrue\u001b[39;00m\n",
      "\u001b[0;31mValueError\u001b[0m: `side` must be positive. Current value: -1."
     ]
    }
   ],
   "source": [
    "Square(-1)"
   ]
  },
  {
   "cell_type": "code",
   "execution_count": null,
   "metadata": {},
   "outputs": [
    {
     "data": {
      "text/plain": [
       "Square(side=2)"
      ]
     },
     "execution_count": 176,
     "metadata": {},
     "output_type": "execute_result"
    }
   ],
   "source": [
    "Square(2)"
   ]
  },
  {
   "cell_type": "markdown",
   "metadata": {},
   "source": [
    "# Pydantic Usage"
   ]
  },
  {
   "cell_type": "markdown",
   "metadata": {},
   "source": [
    "## Notes"
   ]
  },
  {
   "cell_type": "markdown",
   "metadata": {},
   "source": [
    "\n",
    "Let's take a look at how `pydantic` can use the `Annotated` type.\n",
    "\n",
    "Here are the links to the pydantic docs (v2):\n",
    "- [Field Definition](https://docs.pydantic.dev/latest/concepts/fields/#using-annotated)\n",
    "- [Validation](https://docs.pydantic.dev/latest/concepts/validators/#annotated-validators)\n",
    "\n",
    "Putting the `Field Definition` in the type hint makes assigning a default value like standard python.\n",
    "\n",
    "By defining validation in a TypeAlias, we can use that type in many different models and get the same validation as opposed to a [Field Validator](https://docs.pydantic.dev/latest/concepts/validators/#field-validators) that must be defined in every class unless inheritance is used.\n",
    "\n",
    "The tradeability between readability and reuse may not be worth it in every case!"
   ]
  },
  {
   "cell_type": "markdown",
   "metadata": {},
   "source": [
    "## Pydantic"
   ]
  },
  {
   "cell_type": "code",
   "execution_count": null,
   "metadata": {},
   "outputs": [],
   "source": [
    "def ensure_even(v: int) -> int:\n",
    "    if v % 2 != 0:\n",
    "        raise ValueError(\"Number must be even.\")\n",
    "    return v\n",
    "\n",
    "\n",
    "# can nest annotated tyes\n",
    "PositiveInt: TypeAlias = Annotated[int, Field(gt=0)]\n",
    "PositiveEvenInt: TypeAlias = Annotated[PositiveInt, AfterValidator(ensure_even)]\n",
    "\n",
    "\n",
    "class EvenRectangleAnnotations(BaseModel):\n",
    "    \"\"\"Rectangle where length and height are both even integers.\"\"\"\n",
    "\n",
    "    length: PositiveEvenInt\n",
    "    # height has the same metadata as `PositiveEvenInt`\n",
    "    height: Annotated[int, Field(gt=0), AfterValidator(ensure_even)]"
   ]
  },
  {
   "cell_type": "code",
   "execution_count": null,
   "metadata": {},
   "outputs": [
    {
     "ename": "ValidationError",
     "evalue": "2 validation errors for EvenRectangleAnnotations\nlength\n  Input should be greater than 0 [type=greater_than, input_value=-2, input_type=int]\n    For further information visit https://errors.pydantic.dev/2.5/v/greater_than\nheight\n  Value error, Number must be even. [type=value_error, input_value=5, input_type=int]\n    For further information visit https://errors.pydantic.dev/2.5/v/value_error",
     "output_type": "error",
     "traceback": [
      "\u001b[0;31m---------------------------------------------------------------------------\u001b[0m",
      "\u001b[0;31mValidationError\u001b[0m                           Traceback (most recent call last)",
      "\u001b[1;32m/workspace/python/py_ohio_talk/intro.ipynb Cell 37\u001b[0m line \u001b[0;36m1\n\u001b[0;32m----> <a href='vscode-notebook-cell://dev-container%2B7b22686f737450617468223a22633a5c5c55736572735c5c64736368655c5c4465765c5c70726f6a656374735c5c616e6e6f746174696f6e732d74616c6b222c226c6f63616c446f636b6572223a66616c73652c22636f6e66696746696c65223a7b22246d6964223a312c22667350617468223a22633a5c5c55736572735c5c64736368655c5c4465765c5c70726f6a656374735c5c616e6e6f746174696f6e732d74616c6b5c5c2e646576636f6e7461696e65725c5c646576636f6e7461696e65722e6a736f6e222c225f736570223a312c2265787465726e616c223a2266696c653a2f2f2f632533412f55736572732f64736368652f4465762f70726f6a656374732f616e6e6f746174696f6e732d74616c6b2f2e646576636f6e7461696e65722f646576636f6e7461696e65722e6a736f6e222c2270617468223a222f633a2f55736572732f64736368652f4465762f70726f6a656374732f616e6e6f746174696f6e732d74616c6b2f2e646576636f6e7461696e65722f646576636f6e7461696e65722e6a736f6e222c22736368656d65223a2266696c65227d7d/workspace/python/py_ohio_talk/intro.ipynb#X63sdnNjb2RlLXJlbW90ZQ%3D%3D?line=0'>1</a>\u001b[0m EvenRectangleAnnotations(length\u001b[39m=\u001b[39;49m\u001b[39m-\u001b[39;49m\u001b[39m2\u001b[39;49m, height\u001b[39m=\u001b[39;49m\u001b[39m5\u001b[39;49m)\n",
      "File \u001b[0;32m~/.venv/project/lib/python3.12/site-packages/pydantic/main.py:164\u001b[0m, in \u001b[0;36mBaseModel.__init__\u001b[0;34m(__pydantic_self__, **data)\u001b[0m\n\u001b[1;32m    162\u001b[0m \u001b[39m# `__tracebackhide__` tells pytest and some other tools to omit this function from tracebacks\u001b[39;00m\n\u001b[1;32m    163\u001b[0m __tracebackhide__ \u001b[39m=\u001b[39m \u001b[39mTrue\u001b[39;00m\n\u001b[0;32m--> 164\u001b[0m __pydantic_self__\u001b[39m.\u001b[39;49m__pydantic_validator__\u001b[39m.\u001b[39;49mvalidate_python(data, self_instance\u001b[39m=\u001b[39;49m__pydantic_self__)\n",
      "\u001b[0;31mValidationError\u001b[0m: 2 validation errors for EvenRectangleAnnotations\nlength\n  Input should be greater than 0 [type=greater_than, input_value=-2, input_type=int]\n    For further information visit https://errors.pydantic.dev/2.5/v/greater_than\nheight\n  Value error, Number must be even. [type=value_error, input_value=5, input_type=int]\n    For further information visit https://errors.pydantic.dev/2.5/v/value_error"
     ]
    }
   ],
   "source": [
    "EvenRectangleAnnotations(length=-2, height=5)"
   ]
  },
  {
   "cell_type": "code",
   "execution_count": null,
   "metadata": {},
   "outputs": [
    {
     "data": {
      "text/plain": [
       "EvenRectangleAnnotations(length=2, height=4)"
      ]
     },
     "execution_count": 179,
     "metadata": {},
     "output_type": "execute_result"
    }
   ],
   "source": [
    "EvenRectangleAnnotations(length=2, height=4)"
   ]
  },
  {
   "cell_type": "markdown",
   "metadata": {},
   "source": [
    "Using `Annotated` and `TypeAliases` can reuse more code when the same types are needed multiple times."
   ]
  },
  {
   "cell_type": "code",
   "execution_count": null,
   "metadata": {},
   "outputs": [],
   "source": [
    "class PyramidAnnotations(BaseModel):\n",
    "    length: PositiveInt\n",
    "    width: PositiveInt\n",
    "    height: PositiveInt"
   ]
  }
 ],
 "metadata": {
  "kernelspec": {
   "display_name": "project",
   "language": "python",
   "name": "python3"
  },
  "language_info": {
   "codemirror_mode": {
    "name": "ipython",
    "version": 3
   },
   "file_extension": ".py",
   "mimetype": "text/x-python",
   "name": "python",
   "nbconvert_exporter": "python",
   "pygments_lexer": "ipython3",
   "version": "3.12.1"
  }
 },
 "nbformat": 4,
 "nbformat_minor": 2
}
